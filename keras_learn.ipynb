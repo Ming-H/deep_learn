{
 "cells": [
  {
   "cell_type": "code",
   "execution_count": 11,
   "metadata": {},
   "outputs": [],
   "source": [
    "import tensorflow as tf\n",
    "import pandas as pd\n",
    "from tensorflow.keras import layers"
   ]
  },
  {
   "cell_type": "code",
   "execution_count": 12,
   "metadata": {},
   "outputs": [],
   "source": [
    "model = tf.keras.Sequential()\n",
    "model.add(layers.Dense(64, activation='relu', input_shape=(32,)))\n",
    "model.add(layers.Dense(64, activation='relu'))\n",
    "model.add(layers.Dense(10, activation='softmax'))\n",
    "\n",
    "model.compile(optimizer=tf.train.AdamOptimizer(0.001), \n",
    "              loss='categorical_crossentropy',\n",
    "            metrics=['accuracy'])"
   ]
  },
  {
   "cell_type": "code",
   "execution_count": 15,
   "metadata": {},
   "outputs": [
    {
     "name": "stdout",
     "output_type": "stream",
     "text": [
      "Epoch 1/10\n",
      "1000/1000 [==============================] - 0s 126us/sample - loss: 2.3090 - acc: 0.1090\n",
      "Epoch 2/10\n",
      "1000/1000 [==============================] - 0s 30us/sample - loss: 2.2844 - acc: 0.1270\n",
      "Epoch 3/10\n",
      "1000/1000 [==============================] - 0s 30us/sample - loss: 2.2729 - acc: 0.1540\n",
      "Epoch 4/10\n",
      "1000/1000 [==============================] - 0s 29us/sample - loss: 2.2655 - acc: 0.1460\n",
      "Epoch 5/10\n",
      "1000/1000 [==============================] - 0s 30us/sample - loss: 2.2553 - acc: 0.1600\n",
      "Epoch 6/10\n",
      "1000/1000 [==============================] - 0s 31us/sample - loss: 2.2451 - acc: 0.1660\n",
      "Epoch 7/10\n",
      "1000/1000 [==============================] - 0s 31us/sample - loss: 2.2370 - acc: 0.1990\n",
      "Epoch 8/10\n",
      "1000/1000 [==============================] - 0s 29us/sample - loss: 2.2252 - acc: 0.2080\n",
      "Epoch 9/10\n",
      "1000/1000 [==============================] - 0s 30us/sample - loss: 2.2135 - acc: 0.2230\n",
      "Epoch 10/10\n",
      "1000/1000 [==============================] - 0s 29us/sample - loss: 2.2004 - acc: 0.2190\n"
     ]
    },
    {
     "data": {
      "text/plain": [
       "<tensorflow.python.keras.callbacks.History at 0x7fc416401f60>"
      ]
     },
     "execution_count": 15,
     "metadata": {},
     "output_type": "execute_result"
    }
   ],
   "source": [
    "import numpy as np\n",
    "\n",
    "def random_one_hot_labels(shape):\n",
    "    n,n_class = shape\n",
    "    classes = np.random.randint(0, n_class, n)\n",
    "    labels = np.zeros((n, n_class))\n",
    "    labels[np.arange(n), classes] =1 \n",
    "    return labels\n",
    "\n",
    "data = np.random.random((1000, 32))\n",
    "labels = random_one_hot_labels((1000, 10))\n",
    "model.fit(data, labels, epochs=10, batch_size=32)"
   ]
  },
  {
   "cell_type": "code",
   "execution_count": null,
   "metadata": {},
   "outputs": [],
   "source": []
  }
 ],
 "metadata": {
  "kernelspec": {
   "display_name": "Python 3",
   "language": "python",
   "name": "python3"
  },
  "language_info": {
   "codemirror_mode": {
    "name": "ipython",
    "version": 3
   },
   "file_extension": ".py",
   "mimetype": "text/x-python",
   "name": "python",
   "nbconvert_exporter": "python",
   "pygments_lexer": "ipython3",
   "version": "3.6.8"
  }
 },
 "nbformat": 4,
 "nbformat_minor": 2
}
